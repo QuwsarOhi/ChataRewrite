{
 "cells": [
  {
   "cell_type": "code",
   "execution_count": 9,
   "metadata": {},
   "outputs": [],
   "source": [
    "import json\n",
    "\n",
    "with open('train.json', 'r') as f:\n",
    "    train_ds = json.load(f)\n",
    "\n",
    "with open('valid.json', 'r') as f:\n",
    "    valid_ds = json.load(f)\n",
    "\n",
    "if isinstance(train_ds, list):\n",
    "    print(\"Train data has been already processed\")\n",
    "if isinstance(valid_ds, list):\n",
    "    print(\"Valid data has been already processed\")"
   ]
  },
  {
   "cell_type": "code",
   "execution_count": 10,
   "metadata": {},
   "outputs": [],
   "source": [
    "mod_train_ds = []\n",
    "\n",
    "for k, v in train_ds.items():\n",
    "    mod_train_ds.append({\n",
    "        \"input_disfluent\": v[\"disfluent\"],\n",
    "        \"output_original\": v[\"original\"]\n",
    "    })\n",
    "\n",
    "with open('train.json', 'w') as f:\n",
    "    json.dump(mod_train_ds, f, indent=2)"
   ]
  },
  {
   "cell_type": "code",
   "execution_count": 11,
   "metadata": {},
   "outputs": [],
   "source": [
    "mod_valid_ds = []\n",
    "\n",
    "for k, v in valid_ds.items():\n",
    "    mod_valid_ds.append({\n",
    "        \"input_disfluent\": v[\"disfluent\"],\n",
    "        \"output_original\": v[\"original\"]\n",
    "    })\n",
    "\n",
    "with open('valid.json', 'w') as f:\n",
    "    json.dump(mod_train_ds, f, indent=2)"
   ]
  },
  {
   "cell_type": "code",
   "execution_count": null,
   "metadata": {},
   "outputs": [],
   "source": []
  }
 ],
 "metadata": {
  "kernelspec": {
   "display_name": ".venv",
   "language": "python",
   "name": "python3"
  },
  "language_info": {
   "codemirror_mode": {
    "name": "ipython",
    "version": 3
   },
   "file_extension": ".py",
   "mimetype": "text/x-python",
   "name": "python",
   "nbconvert_exporter": "python",
   "pygments_lexer": "ipython3",
   "version": "3.12.4"
  }
 },
 "nbformat": 4,
 "nbformat_minor": 2
}

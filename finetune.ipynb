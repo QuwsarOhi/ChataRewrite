{
  "cells": [
    {
      "cell_type": "code",
      "execution_count": null,
      "metadata": {
        "id": "fwfvU5K30fHt"
      },
      "outputs": [],
      "source": [
        "# !pip install datasets transformers bitsandbytes peft evaluate"
      ]
    },
    {
      "cell_type": "code",
      "execution_count": null,
      "metadata": {
        "id": "mMUBMHjV0Qov"
      },
      "outputs": [],
      "source": [
        "import torch\n",
        "import copy\n",
        "from datasets import load_dataset\n",
        "\n",
        "from peft import (\n",
        "    LoraConfig,\n",
        "    TaskType,\n",
        "    get_peft_model\n",
        ")\n",
        "\n",
        "from transformers import (\n",
        "    AutoModelForCausalLM,\n",
        "    AutoTokenizer,\n",
        "    AutoConfig,\n",
        "    DataCollatorForSeq2Seq,\n",
        "    TrainingArguments,\n",
        "    Trainer\n",
        ")\n",
        "\n",
        "from dataclasses import dataclass\n",
        "import os"
      ]
    },
    {
      "cell_type": "code",
      "execution_count": null,
      "metadata": {
        "id": "KvPhzNEW0Qox"
      },
      "outputs": [],
      "source": [
        "@dataclass\n",
        "class DataClass:\n",
        "    MODEL_PATH = \"Qwen/Qwen2-0.5B-Instruct\"\n",
        "    MAX_LENGTH = 96\n",
        "    EPOCH = 3\n",
        "    LORA_RANK = 16\n",
        "    LORA_ALPHA = 4 * LORA_RANK          # 2 * LORA_RANK\n",
        "    LORA_DROPOUT = 0.5\n",
        "    LORA_MODULES = [\"q_proj\", \"k_proj\", \"v_proj\", \"o_proj\",\n",
        "                    \"gate_proj\", \"up_proj\", \"down_proj\",\n",
        "                    \"lm_head\"]\n",
        "    LR = 5e-5\n",
        "    DEVICE = 'cuda' if torch.cuda.is_available() else 'mps'\n",
        "    USE_LORA = True\n",
        "    MODEL_SAVE_FOLDER = os.path.join('smol_weights', 'LORA' if USE_LORA else 'RegularFinetune')\n",
        "    \n",
        "\n",
        "# Macbook MPS\n",
        "if DataClass.DEVICE == 'mps':\n",
        "    os.environ['PYTORCH_ENABLE_MPS_FALLBACK'] = '1'\n",
        "    # Optional: Turnning off tokenizer parallelism to avoid stuck\n",
        "    # os.environ[\"TOKENIZERS_PARALLELISM\"] = \"false\""
      ]
    },
    {
      "cell_type": "code",
      "execution_count": null,
      "metadata": {
        "colab": {
          "base_uri": "https://localhost:8080/"
        },
        "id": "ZNYjTWg20Qoy",
        "outputId": "a65079db-360a-487f-e2e3-5b2e38450c2c"
      },
      "outputs": [],
      "source": [
        "model_config = AutoConfig.from_pretrained(\n",
        "    DataClass.MODEL_PATH,\n",
        "    trust_remote_code = True,\n",
        "    attn_implementation = 'eager', #'flash_attention_2'\n",
        ")\n",
        "\n",
        "tokenizer = AutoTokenizer.from_pretrained(\n",
        "    DataClass.MODEL_PATH,\n",
        "    trust_remote_code = True\n",
        ")\n",
        "\n",
        "tokenizer.pad_token = tokenizer.eos_token\n",
        "\n",
        "# quant_config = BitsAndBytesConfig(\n",
        "#     load_in_4bit = True,\n",
        "#     bnb_4bit_quant_type=\"n4f\",\n",
        "#     bnb4bit_compute_dtype=torch.bfloat16,\n",
        "#     bnb_4bit_use_double_quant=True\n",
        "# )\n",
        "\n",
        "model = AutoModelForCausalLM.from_pretrained(\n",
        "    DataClass.MODEL_PATH,\n",
        "    device_map=DataClass.DEVICE,\n",
        "    low_cpu_mem_usage=True,\n",
        "    # load_in_8bit=True,\n",
        "    # load_in_4bit=True,\n",
        "    attn_implementation='eager', #NOTE: MPS does ont support 'flash_attention_2',\n",
        "    torch_dtype=torch.bfloat16,\n",
        "    trust_remote_code=True,\n",
        "    # quantization_config=quant_config\n",
        ")"
      ]
    },
    {
      "cell_type": "code",
      "execution_count": null,
      "metadata": {},
      "outputs": [],
      "source": [
        "if DataClass.USE_LORA:\n",
        "    print(\"Using LORA instead of full-finetuning\")\n",
        "    # Freezing model weights\n",
        "    model.requires_grad = False\n",
        "    \n",
        "    lora_config = LoraConfig(\n",
        "        r = DataClass.LORA_RANK,\n",
        "        lora_alpha = DataClass.LORA_ALPHA,\n",
        "        lora_dropout = DataClass.LORA_DROPOUT,\n",
        "        bias = \"none\",\n",
        "        target_modules = DataClass.LORA_MODULES,\n",
        "        task_type = TaskType.CAUSAL_LM\n",
        "    )\n",
        "\n",
        "    model = get_peft_model(model, lora_config)\n",
        "    model.print_trainable_parameters()"
      ]
    },
    {
      "cell_type": "code",
      "execution_count": null,
      "metadata": {},
      "outputs": [],
      "source": [
        "print(\"Model structure\")\n",
        "print(model)"
      ]
    },
    {
      "cell_type": "code",
      "execution_count": null,
      "metadata": {
        "id": "VYoJGQFK0Qoy"
      },
      "outputs": [],
      "source": [
        "def inference(input_text):\n",
        "    input_ids = tokenizer(input_text, return_tensors=\"pt\")\n",
        "    # print(input_ids.keys())\n",
        "    outputs = model.generate(\n",
        "        # **input_ids\n",
        "        max_new_tokens=100,\n",
        "        do_sample=False,\n",
        "        num_beams=1,\n",
        "        temperature=None,\n",
        "        top_k=None,\n",
        "        top_p=None,\n",
        "        input_ids=input_ids['input_ids'].to(DataClass.DEVICE),\n",
        "        attention_mask=input_ids['attention_mask'].to(DataClass.DEVICE)\n",
        "    )\n",
        "    return tokenizer.decode(outputs[0])"
      ]
    },
    {
      "cell_type": "code",
      "execution_count": null,
      "metadata": {
        "colab": {
          "base_uri": "https://localhost:8080/"
        },
        "id": "DxIc7kkB0Qoy",
        "outputId": "9a56a0a5-8d7c-451d-97f5-89b42802520f"
      },
      "outputs": [],
      "source": [
        "# input_text = \"Write a poem in machine learning.\\n\"\n",
        "# print(inference(input_text=input_text))"
      ]
    },
    {
      "cell_type": "code",
      "execution_count": null,
      "metadata": {
        "colab": {
          "base_uri": "https://localhost:8080/"
        },
        "id": "bgNuwA1a0Qoy",
        "outputId": "e8f70fd1-7607-480c-fe78-977a76b321ad"
      },
      "outputs": [],
      "source": [
        "# Let's see the chat template\n",
        "\n",
        "prompt = \"Write a poem in machine learning.\"\n",
        "messages = [\n",
        "    {\"role\": \"system\", \"content\": \"You are a helpful assistant.\"},\n",
        "    {\"role\": \"user\", \"content\": prompt}\n",
        "]\n",
        "\n",
        "text = tokenizer.apply_chat_template(\n",
        "    messages,\n",
        "    tokenize=False,\n",
        "    add_generation_prompt=True\n",
        ")\n",
        "\n",
        "print(\"Chat Template:\")\n",
        "print(text)\n",
        "print('-----')\n",
        "print(\"Output:\")\n",
        "print(inference(text))\n",
        "print()"
      ]
    },
    {
      "cell_type": "code",
      "execution_count": null,
      "metadata": {
        "id": "WeonYAEC0Qoz"
      },
      "outputs": [],
      "source": [
        "train_dataset = load_dataset(\"json\", data_files=\"dataset/train.json\")\n",
        "test_dataset = load_dataset(\"json\", data_files=\"dataset/valid.json\")"
      ]
    },
    {
      "cell_type": "code",
      "execution_count": null,
      "metadata": {
        "colab": {
          "base_uri": "https://localhost:8080/"
        },
        "id": "B-YcYAZq0Qoz",
        "outputId": "dd66a845-c104-4503-8e74-073331fdf58f"
      },
      "outputs": [],
      "source": [
        "print(train_dataset)\n",
        "print(test_dataset)"
      ]
    },
    {
      "cell_type": "code",
      "execution_count": null,
      "metadata": {
        "colab": {
          "base_uri": "https://localhost:8080/"
        },
        "id": "1ZN9s83L0Qoz",
        "outputId": "357a5149-e9d7-4786-f298-a123b27066aa"
      },
      "outputs": [],
      "source": [
        "def prompt_formatter(data):\n",
        "    \"\"\"Formatting the prompt\"\"\"\n",
        "    data = \\\n",
        "f'''<|im_start|>system\n",
        "You are an advanced language model adept at interpreting and refining noisy or imperfect user inputs.\n",
        "Given user data, your task is to accurately extract the intended question and provide precise answers or predictions, even if the input contains errors or discontinuities.<|im_end|>\n",
        "<|im_start|>user\n",
        "{data['input_disfluent']}<|im_end|>\n",
        "<|im_start|>assistant\n",
        "{data['output_original']}<|im_end|>'''\n",
        "\n",
        "    return {'sentence': data, 'input_ids': '', 'attention_mask': '', 'labels': ''}\n",
        "\n",
        "print(prompt_formatter(train_dataset['train'][0])['sentence'])"
      ]
    },
    {
      "cell_type": "code",
      "execution_count": null,
      "metadata": {
        "id": "ZwMW_TVN0Qoz"
      },
      "outputs": [],
      "source": [
        "def batch_tokenizer(batch):\n",
        "    \"\"\"Tokenization of data\"\"\"\n",
        "    model_inputs = tokenizer(\n",
        "        batch[\"sentence\"],\n",
        "        max_length=DataClass.MAX_LENGTH,\n",
        "        truncation=True,\n",
        "        padding='max_length'\n",
        "    )\n",
        "    # HF automatically performs right shift\n",
        "    model_inputs['labels'] = copy.deepcopy(model_inputs['input_ids'])\n",
        "    return model_inputs"
      ]
    },
    {
      "cell_type": "code",
      "execution_count": null,
      "metadata": {
        "colab": {
          "base_uri": "https://localhost:8080/",
          "height": 81,
          "referenced_widgets": [
            "973fe3d529c6463a8f87fb33d2d23394",
            "ee1ff1756e3e49b5b845a57b43a9e86d",
            "9b0e1fb68b49454c8f0cee1735536f7c",
            "3e18daa0ec834a1ba86d4c4d6bf964da",
            "f196e748de694b428a2c35b064ea6a01",
            "84659c598610488a99095234518d60b7",
            "8140a55b6c424ad8858672b649d787bc",
            "9c15d4a0569b424b9820a68e3812a6d1",
            "ff2e7454647c464aba3b1547b39d52c8",
            "91a357f38c0346abb2aeca0dbfb84e7d",
            "a46d392ffa5d4215a8f60c5043fe7639",
            "5a93276a1e164b9f88009eebbb189792",
            "4dbcbe87246345fb8048a3b226b9e64b",
            "737e9afba7fb4410baccd5f34a6f8d77",
            "d23e9e7ae4c7417c82fb5f4a925487c2",
            "3163cd646045490ead3e35d25b5369c0",
            "0c20aa49daa849a8b4ced22f2b61b0e3",
            "943e1c58fa2b456293c107ca3326241b",
            "7470fc63ac874839b7a31fcbe3f8b36f",
            "8889827eb7d442fd90d73c705e06df3b",
            "7cfc606756264d7fb8b79ff944477d72",
            "9355c80a0b1b48bcb81579da5301114f"
          ]
        },
        "id": "p5rEoaRk0Qoz",
        "outputId": "1f18a710-cbac-4f7a-e9b0-fe0aeb04c2c8"
      },
      "outputs": [],
      "source": [
        "train_dataset = train_dataset.map(prompt_formatter)\n",
        "train_dataset = train_dataset.map(batch_tokenizer, batched=True, remove_columns = [])\n",
        "test_dataset = test_dataset.map(prompt_formatter)\n",
        "test_dataset = test_dataset.map(batch_tokenizer, batched=True, remove_columns = [])"
      ]
    },
    {
      "cell_type": "code",
      "execution_count": null,
      "metadata": {
        "id": "Z7ULzMjS0Qoz"
      },
      "outputs": [],
      "source": [
        "data_collator = DataCollatorForSeq2Seq(\n",
        "    model = model,\n",
        "    tokenizer = tokenizer,\n",
        "    max_length = DataClass.MAX_LENGTH,\n",
        "    pad_to_multiple_of = 2,\n",
        "    padding = 'max_length'\n",
        ")\n",
        "\n",
        "training_args = TrainingArguments(\n",
        "    disable_tqdm=False,\n",
        "    output_dir = DataClass.MODEL_SAVE_FOLDER,\n",
        "    overwrite_output_dir=True,\n",
        "    # fp16=True,\n",
        "    save_only_model=True,               # Only saving model, unresumable\n",
        "    per_device_eval_batch_size=1,\n",
        "    learning_rate=DataClass.LR,\n",
        "    num_train_epochs=DataClass.EPOCH,\n",
        "    logging_strategy='steps',\n",
        "    logging_steps=128,\n",
        "    eval_strategy='steps',\n",
        "    eval_steps=7182//8,\n",
        "    save_strategy='steps',\n",
        "    save_steps=7182//8,\n",
        "    push_to_hub=False,\n",
        "    weight_decay=0.9,           # Overfit?\n",
        "    report_to=[]\n",
        ")"
      ]
    },
    {
      "cell_type": "code",
      "execution_count": null,
      "metadata": {
        "colab": {
          "base_uri": "https://localhost:8080/"
        },
        "id": "FPPN1vLT4wrg",
        "outputId": "e6e6c0c4-1642-461f-b205-7b089e76c5a8"
      },
      "outputs": [],
      "source": [
        "# Check some examples\n",
        "\n",
        "for i in range(3):\n",
        "    print(f\"Example {i+1}:\")\n",
        "    print(tokenizer.decode(train_dataset['train'][i]['input_ids']))\n",
        "    print()"
      ]
    },
    {
      "cell_type": "code",
      "execution_count": null,
      "metadata": {
        "colab": {
          "base_uri": "https://localhost:8080/",
          "height": 75
        },
        "id": "wSe7frvC0Qoz",
        "outputId": "d837471b-1476-4db8-e673-01f18b08aa87"
      },
      "outputs": [],
      "source": [
        "trainer = Trainer(\n",
        "    model = model,\n",
        "    tokenizer= tokenizer,\n",
        "    args = training_args,\n",
        "    train_dataset= train_dataset['train'],\n",
        "    eval_dataset=test_dataset['train'],\n",
        "    data_collator=data_collator\n",
        ")\n",
        "\n",
        "model.config.use_cache = False\n",
        "trainer.train()"
      ]
    },
    {
      "cell_type": "code",
      "execution_count": null,
      "metadata": {
        "id": "Id_g6SMi0Qoz"
      },
      "outputs": [],
      "source": []
    }
  ],
  "metadata": {
    "accelerator": "GPU",
    "colab": {
      "gpuType": "T4",
      "provenance": []
    },
    "kernelspec": {
      "display_name": "Python 3",
      "name": "python3"
    },
    "language_info": {
      "codemirror_mode": {
        "name": "ipython",
        "version": 3
      },
      "file_extension": ".py",
      "mimetype": "text/x-python",
      "name": "python",
      "nbconvert_exporter": "python",
      "pygments_lexer": "ipython3",
      "version": "3.12.4"
    },
    "widgets": {
      "application/vnd.jupyter.widget-state+json": {
        "0c20aa49daa849a8b4ced22f2b61b0e3": {
          "model_module": "@jupyter-widgets/base",
          "model_module_version": "1.2.0",
          "model_name": "LayoutModel",
          "state": {
            "_model_module": "@jupyter-widgets/base",
            "_model_module_version": "1.2.0",
            "_model_name": "LayoutModel",
            "_view_count": null,
            "_view_module": "@jupyter-widgets/base",
            "_view_module_version": "1.2.0",
            "_view_name": "LayoutView",
            "align_content": null,
            "align_items": null,
            "align_self": null,
            "border": null,
            "bottom": null,
            "display": null,
            "flex": null,
            "flex_flow": null,
            "grid_area": null,
            "grid_auto_columns": null,
            "grid_auto_flow": null,
            "grid_auto_rows": null,
            "grid_column": null,
            "grid_gap": null,
            "grid_row": null,
            "grid_template_areas": null,
            "grid_template_columns": null,
            "grid_template_rows": null,
            "height": null,
            "justify_content": null,
            "justify_items": null,
            "left": null,
            "margin": null,
            "max_height": null,
            "max_width": null,
            "min_height": null,
            "min_width": null,
            "object_fit": null,
            "object_position": null,
            "order": null,
            "overflow": null,
            "overflow_x": null,
            "overflow_y": null,
            "padding": null,
            "right": null,
            "top": null,
            "visibility": null,
            "width": null
          }
        },
        "3163cd646045490ead3e35d25b5369c0": {
          "model_module": "@jupyter-widgets/base",
          "model_module_version": "1.2.0",
          "model_name": "LayoutModel",
          "state": {
            "_model_module": "@jupyter-widgets/base",
            "_model_module_version": "1.2.0",
            "_model_name": "LayoutModel",
            "_view_count": null,
            "_view_module": "@jupyter-widgets/base",
            "_view_module_version": "1.2.0",
            "_view_name": "LayoutView",
            "align_content": null,
            "align_items": null,
            "align_self": null,
            "border": null,
            "bottom": null,
            "display": null,
            "flex": null,
            "flex_flow": null,
            "grid_area": null,
            "grid_auto_columns": null,
            "grid_auto_flow": null,
            "grid_auto_rows": null,
            "grid_column": null,
            "grid_gap": null,
            "grid_row": null,
            "grid_template_areas": null,
            "grid_template_columns": null,
            "grid_template_rows": null,
            "height": null,
            "justify_content": null,
            "justify_items": null,
            "left": null,
            "margin": null,
            "max_height": null,
            "max_width": null,
            "min_height": null,
            "min_width": null,
            "object_fit": null,
            "object_position": null,
            "order": null,
            "overflow": null,
            "overflow_x": null,
            "overflow_y": null,
            "padding": null,
            "right": null,
            "top": null,
            "visibility": null,
            "width": null
          }
        },
        "3e18daa0ec834a1ba86d4c4d6bf964da": {
          "model_module": "@jupyter-widgets/controls",
          "model_module_version": "1.5.0",
          "model_name": "HTMLModel",
          "state": {
            "_dom_classes": [],
            "_model_module": "@jupyter-widgets/controls",
            "_model_module_version": "1.5.0",
            "_model_name": "HTMLModel",
            "_view_count": null,
            "_view_module": "@jupyter-widgets/controls",
            "_view_module_version": "1.5.0",
            "_view_name": "HTMLView",
            "description": "",
            "description_tooltip": null,
            "layout": "IPY_MODEL_91a357f38c0346abb2aeca0dbfb84e7d",
            "placeholder": "​",
            "style": "IPY_MODEL_a46d392ffa5d4215a8f60c5043fe7639",
            "value": " 7182/7182 [00:06&lt;00:00, 1024.46 examples/s]"
          }
        },
        "4dbcbe87246345fb8048a3b226b9e64b": {
          "model_module": "@jupyter-widgets/controls",
          "model_module_version": "1.5.0",
          "model_name": "HTMLModel",
          "state": {
            "_dom_classes": [],
            "_model_module": "@jupyter-widgets/controls",
            "_model_module_version": "1.5.0",
            "_model_name": "HTMLModel",
            "_view_count": null,
            "_view_module": "@jupyter-widgets/controls",
            "_view_module_version": "1.5.0",
            "_view_name": "HTMLView",
            "description": "",
            "description_tooltip": null,
            "layout": "IPY_MODEL_0c20aa49daa849a8b4ced22f2b61b0e3",
            "placeholder": "​",
            "style": "IPY_MODEL_943e1c58fa2b456293c107ca3326241b",
            "value": "Map: 100%"
          }
        },
        "5a93276a1e164b9f88009eebbb189792": {
          "model_module": "@jupyter-widgets/controls",
          "model_module_version": "1.5.0",
          "model_name": "HBoxModel",
          "state": {
            "_dom_classes": [],
            "_model_module": "@jupyter-widgets/controls",
            "_model_module_version": "1.5.0",
            "_model_name": "HBoxModel",
            "_view_count": null,
            "_view_module": "@jupyter-widgets/controls",
            "_view_module_version": "1.5.0",
            "_view_name": "HBoxView",
            "box_style": "",
            "children": [
              "IPY_MODEL_4dbcbe87246345fb8048a3b226b9e64b",
              "IPY_MODEL_737e9afba7fb4410baccd5f34a6f8d77",
              "IPY_MODEL_d23e9e7ae4c7417c82fb5f4a925487c2"
            ],
            "layout": "IPY_MODEL_3163cd646045490ead3e35d25b5369c0"
          }
        },
        "737e9afba7fb4410baccd5f34a6f8d77": {
          "model_module": "@jupyter-widgets/controls",
          "model_module_version": "1.5.0",
          "model_name": "FloatProgressModel",
          "state": {
            "_dom_classes": [],
            "_model_module": "@jupyter-widgets/controls",
            "_model_module_version": "1.5.0",
            "_model_name": "FloatProgressModel",
            "_view_count": null,
            "_view_module": "@jupyter-widgets/controls",
            "_view_module_version": "1.5.0",
            "_view_name": "ProgressView",
            "bar_style": "success",
            "description": "",
            "description_tooltip": null,
            "layout": "IPY_MODEL_7470fc63ac874839b7a31fcbe3f8b36f",
            "max": 7182,
            "min": 0,
            "orientation": "horizontal",
            "style": "IPY_MODEL_8889827eb7d442fd90d73c705e06df3b",
            "value": 7182
          }
        },
        "7470fc63ac874839b7a31fcbe3f8b36f": {
          "model_module": "@jupyter-widgets/base",
          "model_module_version": "1.2.0",
          "model_name": "LayoutModel",
          "state": {
            "_model_module": "@jupyter-widgets/base",
            "_model_module_version": "1.2.0",
            "_model_name": "LayoutModel",
            "_view_count": null,
            "_view_module": "@jupyter-widgets/base",
            "_view_module_version": "1.2.0",
            "_view_name": "LayoutView",
            "align_content": null,
            "align_items": null,
            "align_self": null,
            "border": null,
            "bottom": null,
            "display": null,
            "flex": null,
            "flex_flow": null,
            "grid_area": null,
            "grid_auto_columns": null,
            "grid_auto_flow": null,
            "grid_auto_rows": null,
            "grid_column": null,
            "grid_gap": null,
            "grid_row": null,
            "grid_template_areas": null,
            "grid_template_columns": null,
            "grid_template_rows": null,
            "height": null,
            "justify_content": null,
            "justify_items": null,
            "left": null,
            "margin": null,
            "max_height": null,
            "max_width": null,
            "min_height": null,
            "min_width": null,
            "object_fit": null,
            "object_position": null,
            "order": null,
            "overflow": null,
            "overflow_x": null,
            "overflow_y": null,
            "padding": null,
            "right": null,
            "top": null,
            "visibility": null,
            "width": null
          }
        },
        "7cfc606756264d7fb8b79ff944477d72": {
          "model_module": "@jupyter-widgets/base",
          "model_module_version": "1.2.0",
          "model_name": "LayoutModel",
          "state": {
            "_model_module": "@jupyter-widgets/base",
            "_model_module_version": "1.2.0",
            "_model_name": "LayoutModel",
            "_view_count": null,
            "_view_module": "@jupyter-widgets/base",
            "_view_module_version": "1.2.0",
            "_view_name": "LayoutView",
            "align_content": null,
            "align_items": null,
            "align_self": null,
            "border": null,
            "bottom": null,
            "display": null,
            "flex": null,
            "flex_flow": null,
            "grid_area": null,
            "grid_auto_columns": null,
            "grid_auto_flow": null,
            "grid_auto_rows": null,
            "grid_column": null,
            "grid_gap": null,
            "grid_row": null,
            "grid_template_areas": null,
            "grid_template_columns": null,
            "grid_template_rows": null,
            "height": null,
            "justify_content": null,
            "justify_items": null,
            "left": null,
            "margin": null,
            "max_height": null,
            "max_width": null,
            "min_height": null,
            "min_width": null,
            "object_fit": null,
            "object_position": null,
            "order": null,
            "overflow": null,
            "overflow_x": null,
            "overflow_y": null,
            "padding": null,
            "right": null,
            "top": null,
            "visibility": null,
            "width": null
          }
        },
        "8140a55b6c424ad8858672b649d787bc": {
          "model_module": "@jupyter-widgets/controls",
          "model_module_version": "1.5.0",
          "model_name": "DescriptionStyleModel",
          "state": {
            "_model_module": "@jupyter-widgets/controls",
            "_model_module_version": "1.5.0",
            "_model_name": "DescriptionStyleModel",
            "_view_count": null,
            "_view_module": "@jupyter-widgets/base",
            "_view_module_version": "1.2.0",
            "_view_name": "StyleView",
            "description_width": ""
          }
        },
        "84659c598610488a99095234518d60b7": {
          "model_module": "@jupyter-widgets/base",
          "model_module_version": "1.2.0",
          "model_name": "LayoutModel",
          "state": {
            "_model_module": "@jupyter-widgets/base",
            "_model_module_version": "1.2.0",
            "_model_name": "LayoutModel",
            "_view_count": null,
            "_view_module": "@jupyter-widgets/base",
            "_view_module_version": "1.2.0",
            "_view_name": "LayoutView",
            "align_content": null,
            "align_items": null,
            "align_self": null,
            "border": null,
            "bottom": null,
            "display": null,
            "flex": null,
            "flex_flow": null,
            "grid_area": null,
            "grid_auto_columns": null,
            "grid_auto_flow": null,
            "grid_auto_rows": null,
            "grid_column": null,
            "grid_gap": null,
            "grid_row": null,
            "grid_template_areas": null,
            "grid_template_columns": null,
            "grid_template_rows": null,
            "height": null,
            "justify_content": null,
            "justify_items": null,
            "left": null,
            "margin": null,
            "max_height": null,
            "max_width": null,
            "min_height": null,
            "min_width": null,
            "object_fit": null,
            "object_position": null,
            "order": null,
            "overflow": null,
            "overflow_x": null,
            "overflow_y": null,
            "padding": null,
            "right": null,
            "top": null,
            "visibility": null,
            "width": null
          }
        },
        "8889827eb7d442fd90d73c705e06df3b": {
          "model_module": "@jupyter-widgets/controls",
          "model_module_version": "1.5.0",
          "model_name": "ProgressStyleModel",
          "state": {
            "_model_module": "@jupyter-widgets/controls",
            "_model_module_version": "1.5.0",
            "_model_name": "ProgressStyleModel",
            "_view_count": null,
            "_view_module": "@jupyter-widgets/base",
            "_view_module_version": "1.2.0",
            "_view_name": "StyleView",
            "bar_color": null,
            "description_width": ""
          }
        },
        "91a357f38c0346abb2aeca0dbfb84e7d": {
          "model_module": "@jupyter-widgets/base",
          "model_module_version": "1.2.0",
          "model_name": "LayoutModel",
          "state": {
            "_model_module": "@jupyter-widgets/base",
            "_model_module_version": "1.2.0",
            "_model_name": "LayoutModel",
            "_view_count": null,
            "_view_module": "@jupyter-widgets/base",
            "_view_module_version": "1.2.0",
            "_view_name": "LayoutView",
            "align_content": null,
            "align_items": null,
            "align_self": null,
            "border": null,
            "bottom": null,
            "display": null,
            "flex": null,
            "flex_flow": null,
            "grid_area": null,
            "grid_auto_columns": null,
            "grid_auto_flow": null,
            "grid_auto_rows": null,
            "grid_column": null,
            "grid_gap": null,
            "grid_row": null,
            "grid_template_areas": null,
            "grid_template_columns": null,
            "grid_template_rows": null,
            "height": null,
            "justify_content": null,
            "justify_items": null,
            "left": null,
            "margin": null,
            "max_height": null,
            "max_width": null,
            "min_height": null,
            "min_width": null,
            "object_fit": null,
            "object_position": null,
            "order": null,
            "overflow": null,
            "overflow_x": null,
            "overflow_y": null,
            "padding": null,
            "right": null,
            "top": null,
            "visibility": null,
            "width": null
          }
        },
        "9355c80a0b1b48bcb81579da5301114f": {
          "model_module": "@jupyter-widgets/controls",
          "model_module_version": "1.5.0",
          "model_name": "DescriptionStyleModel",
          "state": {
            "_model_module": "@jupyter-widgets/controls",
            "_model_module_version": "1.5.0",
            "_model_name": "DescriptionStyleModel",
            "_view_count": null,
            "_view_module": "@jupyter-widgets/base",
            "_view_module_version": "1.2.0",
            "_view_name": "StyleView",
            "description_width": ""
          }
        },
        "943e1c58fa2b456293c107ca3326241b": {
          "model_module": "@jupyter-widgets/controls",
          "model_module_version": "1.5.0",
          "model_name": "DescriptionStyleModel",
          "state": {
            "_model_module": "@jupyter-widgets/controls",
            "_model_module_version": "1.5.0",
            "_model_name": "DescriptionStyleModel",
            "_view_count": null,
            "_view_module": "@jupyter-widgets/base",
            "_view_module_version": "1.2.0",
            "_view_name": "StyleView",
            "description_width": ""
          }
        },
        "973fe3d529c6463a8f87fb33d2d23394": {
          "model_module": "@jupyter-widgets/controls",
          "model_module_version": "1.5.0",
          "model_name": "HBoxModel",
          "state": {
            "_dom_classes": [],
            "_model_module": "@jupyter-widgets/controls",
            "_model_module_version": "1.5.0",
            "_model_name": "HBoxModel",
            "_view_count": null,
            "_view_module": "@jupyter-widgets/controls",
            "_view_module_version": "1.5.0",
            "_view_name": "HBoxView",
            "box_style": "",
            "children": [
              "IPY_MODEL_ee1ff1756e3e49b5b845a57b43a9e86d",
              "IPY_MODEL_9b0e1fb68b49454c8f0cee1735536f7c",
              "IPY_MODEL_3e18daa0ec834a1ba86d4c4d6bf964da"
            ],
            "layout": "IPY_MODEL_f196e748de694b428a2c35b064ea6a01"
          }
        },
        "9b0e1fb68b49454c8f0cee1735536f7c": {
          "model_module": "@jupyter-widgets/controls",
          "model_module_version": "1.5.0",
          "model_name": "FloatProgressModel",
          "state": {
            "_dom_classes": [],
            "_model_module": "@jupyter-widgets/controls",
            "_model_module_version": "1.5.0",
            "_model_name": "FloatProgressModel",
            "_view_count": null,
            "_view_module": "@jupyter-widgets/controls",
            "_view_module_version": "1.5.0",
            "_view_name": "ProgressView",
            "bar_style": "success",
            "description": "",
            "description_tooltip": null,
            "layout": "IPY_MODEL_9c15d4a0569b424b9820a68e3812a6d1",
            "max": 7182,
            "min": 0,
            "orientation": "horizontal",
            "style": "IPY_MODEL_ff2e7454647c464aba3b1547b39d52c8",
            "value": 7182
          }
        },
        "9c15d4a0569b424b9820a68e3812a6d1": {
          "model_module": "@jupyter-widgets/base",
          "model_module_version": "1.2.0",
          "model_name": "LayoutModel",
          "state": {
            "_model_module": "@jupyter-widgets/base",
            "_model_module_version": "1.2.0",
            "_model_name": "LayoutModel",
            "_view_count": null,
            "_view_module": "@jupyter-widgets/base",
            "_view_module_version": "1.2.0",
            "_view_name": "LayoutView",
            "align_content": null,
            "align_items": null,
            "align_self": null,
            "border": null,
            "bottom": null,
            "display": null,
            "flex": null,
            "flex_flow": null,
            "grid_area": null,
            "grid_auto_columns": null,
            "grid_auto_flow": null,
            "grid_auto_rows": null,
            "grid_column": null,
            "grid_gap": null,
            "grid_row": null,
            "grid_template_areas": null,
            "grid_template_columns": null,
            "grid_template_rows": null,
            "height": null,
            "justify_content": null,
            "justify_items": null,
            "left": null,
            "margin": null,
            "max_height": null,
            "max_width": null,
            "min_height": null,
            "min_width": null,
            "object_fit": null,
            "object_position": null,
            "order": null,
            "overflow": null,
            "overflow_x": null,
            "overflow_y": null,
            "padding": null,
            "right": null,
            "top": null,
            "visibility": null,
            "width": null
          }
        },
        "a46d392ffa5d4215a8f60c5043fe7639": {
          "model_module": "@jupyter-widgets/controls",
          "model_module_version": "1.5.0",
          "model_name": "DescriptionStyleModel",
          "state": {
            "_model_module": "@jupyter-widgets/controls",
            "_model_module_version": "1.5.0",
            "_model_name": "DescriptionStyleModel",
            "_view_count": null,
            "_view_module": "@jupyter-widgets/base",
            "_view_module_version": "1.2.0",
            "_view_name": "StyleView",
            "description_width": ""
          }
        },
        "d23e9e7ae4c7417c82fb5f4a925487c2": {
          "model_module": "@jupyter-widgets/controls",
          "model_module_version": "1.5.0",
          "model_name": "HTMLModel",
          "state": {
            "_dom_classes": [],
            "_model_module": "@jupyter-widgets/controls",
            "_model_module_version": "1.5.0",
            "_model_name": "HTMLModel",
            "_view_count": null,
            "_view_module": "@jupyter-widgets/controls",
            "_view_module_version": "1.5.0",
            "_view_name": "HTMLView",
            "description": "",
            "description_tooltip": null,
            "layout": "IPY_MODEL_7cfc606756264d7fb8b79ff944477d72",
            "placeholder": "​",
            "style": "IPY_MODEL_9355c80a0b1b48bcb81579da5301114f",
            "value": " 7182/7182 [00:03&lt;00:00, 2643.38 examples/s]"
          }
        },
        "ee1ff1756e3e49b5b845a57b43a9e86d": {
          "model_module": "@jupyter-widgets/controls",
          "model_module_version": "1.5.0",
          "model_name": "HTMLModel",
          "state": {
            "_dom_classes": [],
            "_model_module": "@jupyter-widgets/controls",
            "_model_module_version": "1.5.0",
            "_model_name": "HTMLModel",
            "_view_count": null,
            "_view_module": "@jupyter-widgets/controls",
            "_view_module_version": "1.5.0",
            "_view_name": "HTMLView",
            "description": "",
            "description_tooltip": null,
            "layout": "IPY_MODEL_84659c598610488a99095234518d60b7",
            "placeholder": "​",
            "style": "IPY_MODEL_8140a55b6c424ad8858672b649d787bc",
            "value": "Map: 100%"
          }
        },
        "f196e748de694b428a2c35b064ea6a01": {
          "model_module": "@jupyter-widgets/base",
          "model_module_version": "1.2.0",
          "model_name": "LayoutModel",
          "state": {
            "_model_module": "@jupyter-widgets/base",
            "_model_module_version": "1.2.0",
            "_model_name": "LayoutModel",
            "_view_count": null,
            "_view_module": "@jupyter-widgets/base",
            "_view_module_version": "1.2.0",
            "_view_name": "LayoutView",
            "align_content": null,
            "align_items": null,
            "align_self": null,
            "border": null,
            "bottom": null,
            "display": null,
            "flex": null,
            "flex_flow": null,
            "grid_area": null,
            "grid_auto_columns": null,
            "grid_auto_flow": null,
            "grid_auto_rows": null,
            "grid_column": null,
            "grid_gap": null,
            "grid_row": null,
            "grid_template_areas": null,
            "grid_template_columns": null,
            "grid_template_rows": null,
            "height": null,
            "justify_content": null,
            "justify_items": null,
            "left": null,
            "margin": null,
            "max_height": null,
            "max_width": null,
            "min_height": null,
            "min_width": null,
            "object_fit": null,
            "object_position": null,
            "order": null,
            "overflow": null,
            "overflow_x": null,
            "overflow_y": null,
            "padding": null,
            "right": null,
            "top": null,
            "visibility": null,
            "width": null
          }
        },
        "ff2e7454647c464aba3b1547b39d52c8": {
          "model_module": "@jupyter-widgets/controls",
          "model_module_version": "1.5.0",
          "model_name": "ProgressStyleModel",
          "state": {
            "_model_module": "@jupyter-widgets/controls",
            "_model_module_version": "1.5.0",
            "_model_name": "ProgressStyleModel",
            "_view_count": null,
            "_view_module": "@jupyter-widgets/base",
            "_view_module_version": "1.2.0",
            "_view_name": "StyleView",
            "bar_color": null,
            "description_width": ""
          }
        }
      }
    }
  },
  "nbformat": 4,
  "nbformat_minor": 0
}
